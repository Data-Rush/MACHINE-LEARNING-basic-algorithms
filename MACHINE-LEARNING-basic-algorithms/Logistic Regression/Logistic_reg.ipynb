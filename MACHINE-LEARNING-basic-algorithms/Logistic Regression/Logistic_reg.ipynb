{
  "nbformat": 4,
  "nbformat_minor": 0,
  "metadata": {
    "colab": {
      "name": "Logistic reg.ipynb",
      "provenance": [],
      "collapsed_sections": [],
      "authorship_tag": "ABX9TyOk8+t6pdzUxWB4r+oFWKk4"
    },
    "kernelspec": {
      "name": "python3",
      "display_name": "Python 3"
    },
    "language_info": {
      "name": "python"
    }
  },
  "cells": [
    {
      "cell_type": "markdown",
      "metadata": {
        "id": "Jua10kKq8v87"
      },
      "source": [
        "**LOGISTIC REGRESSION**"
      ]
    },
    {
      "cell_type": "code",
      "metadata": {
        "id": "BuWd1qXrj1Hd"
      },
      "source": [
        "import pandas as pd\n",
        "import matplotlib.pyplot as plt\n",
        "import seaborn as sns"
      ],
      "execution_count": null,
      "outputs": []
    },
    {
      "cell_type": "code",
      "metadata": {
        "colab": {
          "base_uri": "https://localhost:8080/",
          "height": 194
        },
        "id": "mEBeQx3wkhKU",
        "outputId": "093553f1-1495-494c-d50b-27cbb20c62f5"
      },
      "source": [
        "df = pd.read_csv('insurance_data.csv') \n",
        "df.head()"
      ],
      "execution_count": null,
      "outputs": [
        {
          "output_type": "execute_result",
          "data": {
            "text/html": [
              "<div>\n",
              "<style scoped>\n",
              "    .dataframe tbody tr th:only-of-type {\n",
              "        vertical-align: middle;\n",
              "    }\n",
              "\n",
              "    .dataframe tbody tr th {\n",
              "        vertical-align: top;\n",
              "    }\n",
              "\n",
              "    .dataframe thead th {\n",
              "        text-align: right;\n",
              "    }\n",
              "</style>\n",
              "<table border=\"1\" class=\"dataframe\">\n",
              "  <thead>\n",
              "    <tr style=\"text-align: right;\">\n",
              "      <th></th>\n",
              "      <th>age</th>\n",
              "      <th>bought_insurance</th>\n",
              "    </tr>\n",
              "  </thead>\n",
              "  <tbody>\n",
              "    <tr>\n",
              "      <th>0</th>\n",
              "      <td>22</td>\n",
              "      <td>0</td>\n",
              "    </tr>\n",
              "    <tr>\n",
              "      <th>1</th>\n",
              "      <td>25</td>\n",
              "      <td>0</td>\n",
              "    </tr>\n",
              "    <tr>\n",
              "      <th>2</th>\n",
              "      <td>47</td>\n",
              "      <td>1</td>\n",
              "    </tr>\n",
              "    <tr>\n",
              "      <th>3</th>\n",
              "      <td>52</td>\n",
              "      <td>0</td>\n",
              "    </tr>\n",
              "    <tr>\n",
              "      <th>4</th>\n",
              "      <td>46</td>\n",
              "      <td>1</td>\n",
              "    </tr>\n",
              "  </tbody>\n",
              "</table>\n",
              "</div>"
            ],
            "text/plain": [
              "   age  bought_insurance\n",
              "0   22                 0\n",
              "1   25                 0\n",
              "2   47                 1\n",
              "3   52                 0\n",
              "4   46                 1"
            ]
          },
          "metadata": {
            "tags": []
          },
          "execution_count": 4
        }
      ]
    },
    {
      "cell_type": "code",
      "metadata": {
        "colab": {
          "base_uri": "https://localhost:8080/",
          "height": 283
        },
        "id": "r3PQ2ozJk5NF",
        "outputId": "a6c979eb-8ada-4e4a-d57f-a58e34ce07fb"
      },
      "source": [
        "plt.scatter(df['age'],df['bought_insurance'],marker='+',color='red',s = 50) \n"
      ],
      "execution_count": 84,
      "outputs": [
        {
          "output_type": "execute_result",
          "data": {
            "text/plain": [
              "<matplotlib.collections.PathCollection at 0x7ff014f08b50>"
            ]
          },
          "metadata": {
            "tags": []
          },
          "execution_count": 84
        },
        {
          "output_type": "display_data",
          "data": {
            "image/png": "[encoded data removed]",
            "text/plain": [
              "<Figure size 432x288 with 1 Axes>"
            ]
          },
          "metadata": {
            "tags": [],
            "needs_background": "light"
          }
        }
      ]
    },
    {
      "cell_type": "code",
      "metadata": {
        "colab": {
          "base_uri": "https://localhost:8080/",
          "height": 332
        },
        "id": "iS4KAtrNlOIA",
        "outputId": "6b3e3083-11e1-44b4-d8aa-1af85e6d2bb7"
      },
      "source": [
        "sns.regplot(x='age', y='bought_insurance', data=df, logistic=True ,marker='+',color='red')"
      ],
      "execution_count": null,
      "outputs": [
        {
          "output_type": "stream",
          "text": [
            "/usr/local/lib/python3.7/dist-packages/statsmodels/genmod/families/family.py:890: RuntimeWarning: invalid value encountered in true_divide\n",
            "  n_endog_mu = self._clean((1. - endog) / (1. - mu))\n"
          ],
          "name": "stderr"
        },
        {
          "output_type": "execute_result",
          "data": {
            "text/plain": [
              "<matplotlib.axes._subplots.AxesSubplot at 0x7ff0189e9250>"
            ]
          },
          "metadata": {
            "tags": []
          },
          "execution_count": 12
        },
        {
          "output_type": "display_data",
          "data": {
            "image/png": "[encoded data removed]",
            "text/plain": [
              "<Figure size 432x288 with 1 Axes>"
            ]
          },
          "metadata": {
            "tags": [],
            "needs_background": "light"
          }
        }
      ]
    },
    {
      "cell_type": "code",
      "metadata": {
        "id": "y3LJe94xngBa"
      },
      "source": [
        "X = df['age'].values.reshape(-1, 1)"
      ],
      "execution_count": null,
      "outputs": []
    },
    {
      "cell_type": "code",
      "metadata": {
        "id": "GnOMwLWHnocp"
      },
      "source": [
        "y = df['bought_insurance'].values.reshape(-1 , 1)"
      ],
      "execution_count": null,
      "outputs": []
    },
    {
      "cell_type": "code",
      "metadata": {
        "id": "UnycaeBymrSa"
      },
      "source": [
        "from sklearn.model_selection import train_test_split\n",
        "X_train, X_test, y_train, y_test = train_test_split(X , y , random_state = 12 , test_size = 0.2)"
      ],
      "execution_count": null,
      "outputs": []
    },
    {
      "cell_type": "code",
      "metadata": {
        "id": "PJK_KlrYohka"
      },
      "source": [
        "from sklearn.linear_model import LogisticRegression\n",
        "model = LogisticRegression()"
      ],
      "execution_count": null,
      "outputs": []
    },
    {
      "cell_type": "code",
      "metadata": {
        "colab": {
          "base_uri": "https://localhost:8080/"
        },
        "id": "59G5106iophb",
        "outputId": "40edf836-7fc6-4730-8561-ada0e63c521c"
      },
      "source": [
        "model.fit(X_train , y_train)"
      ],
      "execution_count": null,
      "outputs": [
        {
          "output_type": "stream",
          "text": [
            "/usr/local/lib/python3.7/dist-packages/sklearn/utils/validation.py:760: DataConversionWarning: A column-vector y was passed when a 1d array was expected. Please change the shape of y to (n_samples, ), for example using ravel().\n",
            "  y = column_or_1d(y, warn=True)\n"
          ],
          "name": "stderr"
        },
        {
          "output_type": "execute_result",
          "data": {
            "text/plain": [
              "LogisticRegression(C=1.0, class_weight=None, dual=False, fit_intercept=True,\n",
              "                   intercept_scaling=1, l1_ratio=None, max_iter=100,\n",
              "                   multi_class='auto', n_jobs=None, penalty='l2',\n",
              "                   random_state=None, solver='lbfgs', tol=0.0001, verbose=0,\n",
              "                   warm_start=False)"
            ]
          },
          "metadata": {
            "tags": []
          },
          "execution_count": 38
        }
      ]
    },
    {
      "cell_type": "code",
      "metadata": {
        "colab": {
          "base_uri": "https://localhost:8080/"
        },
        "id": "oLLEicNPpjDh",
        "outputId": "6626d930-75ea-4263-9f3d-59fa6efb8ac6"
      },
      "source": [
        "X_test"
      ],
      "execution_count": null,
      "outputs": [
        {
          "output_type": "execute_result",
          "data": {
            "text/plain": [
              "array([[60],\n",
              "       [18],\n",
              "       [21],\n",
              "       [26],\n",
              "       [25],\n",
              "       [49]])"
            ]
          },
          "metadata": {
            "tags": []
          },
          "execution_count": 39
        }
      ]
    },
    {
      "cell_type": "code",
      "metadata": {
        "colab": {
          "base_uri": "https://localhost:8080/"
        },
        "id": "k73m2VWywnRJ",
        "outputId": "e8536bbc-f44b-449e-e602-8a59ebe9cc52"
      },
      "source": [
        "y_test"
      ],
      "execution_count": null,
      "outputs": [
        {
          "output_type": "execute_result",
          "data": {
            "text/plain": [
              "array([[1],\n",
              "       [0],\n",
              "       [0],\n",
              "       [0],\n",
              "       [0],\n",
              "       [1]])"
            ]
          },
          "metadata": {
            "tags": []
          },
          "execution_count": 64
        }
      ]
    },
    {
      "cell_type": "code",
      "metadata": {
        "colab": {
          "base_uri": "https://localhost:8080/",
          "height": 283
        },
        "id": "fpgQFafxpsXZ",
        "outputId": "80216e2b-1df0-490d-b594-7320fb6a2b33"
      },
      "source": [
        "plt.scatter(X_train, y_train, color = 'blue')"
      ],
      "execution_count": null,
      "outputs": [
        {
          "output_type": "execute_result",
          "data": {
            "text/plain": [
              "<matplotlib.collections.PathCollection at 0x7ff015695dd0>"
            ]
          },
          "metadata": {
            "tags": []
          },
          "execution_count": 42
        },
        {
          "output_type": "display_data",
          "data": {
            "image/png": "[encoded data removed]",
            "text/plain": [
              "<Figure size 432x288 with 1 Axes>"
            ]
          },
          "metadata": {
            "tags": [],
            "needs_background": "light"
          }
        }
      ]
    },
    {
      "cell_type": "code",
      "metadata": {
        "colab": {
          "base_uri": "https://localhost:8080/",
          "height": 374
        },
        "id": "4mrTVYkcp3aH",
        "outputId": "8c1cb15d-87c9-4f36-91c0-33c23958720b"
      },
      "source": [
        "sns.regplot(X_train, y_train, data=df, logistic=True ,color='blue')"
      ],
      "execution_count": null,
      "outputs": [
        {
          "output_type": "stream",
          "text": [
            "/usr/local/lib/python3.7/dist-packages/seaborn/_decorators.py:43: FutureWarning: Pass the following variables as keyword args: x, y. From version 0.12, the only valid positional argument will be `data`, and passing other arguments without an explicit keyword will result in an error or misinterpretation.\n",
            "  FutureWarning\n",
            "/usr/local/lib/python3.7/dist-packages/statsmodels/genmod/families/family.py:890: RuntimeWarning: invalid value encountered in true_divide\n",
            "  n_endog_mu = self._clean((1. - endog) / (1. - mu))\n"
          ],
          "name": "stderr"
        },
        {
          "output_type": "execute_result",
          "data": {
            "text/plain": [
              "<matplotlib.axes._subplots.AxesSubplot at 0x7ff0155f0190>"
            ]
          },
          "metadata": {
            "tags": []
          },
          "execution_count": 44
        },
        {
          "output_type": "display_data",
          "data": {
            "image/png": "[encoded data removed]",
            "text/plain": [
              "<Figure size 432x288 with 1 Axes>"
            ]
          },
          "metadata": {
            "tags": [],
            "needs_background": "light"
          }
        }
      ]
    },
    {
      "cell_type": "code",
      "metadata": {
        "id": "BMnIyd0fqRul"
      },
      "source": [
        "y_pred = model.predict(X_test)"
      ],
      "execution_count": null,
      "outputs": []
    },
    {
      "cell_type": "code",
      "metadata": {
        "colab": {
          "base_uri": "https://localhost:8080/"
        },
        "id": "PjVvmLTuvE4K",
        "outputId": "a54bad0f-ef25-421d-f55a-91cf50d4a583"
      },
      "source": [
        "y_pred"
      ],
      "execution_count": null,
      "outputs": [
        {
          "output_type": "execute_result",
          "data": {
            "text/plain": [
              "array([1, 0, 0, 0, 0, 1])"
            ]
          },
          "metadata": {
            "tags": []
          },
          "execution_count": 49
        }
      ]
    },
    {
      "cell_type": "code",
      "metadata": {
        "colab": {
          "base_uri": "https://localhost:8080/"
        },
        "id": "qFeiZV1KvMT-",
        "outputId": "20f3150d-a545-4848-872c-abee2b1a9897"
      },
      "source": [
        "y_test         "
      ],
      "execution_count": null,
      "outputs": [
        {
          "output_type": "execute_result",
          "data": {
            "text/plain": [
              "array([[1],\n",
              "       [0],\n",
              "       [0],\n",
              "       [0],\n",
              "       [0],\n",
              "       [1]])"
            ]
          },
          "metadata": {
            "tags": []
          },
          "execution_count": 50
        }
      ]
    },
    {
      "cell_type": "markdown",
      "metadata": {
        "id": "zPRdSmxovP3c"
      },
      "source": [
        "y_pred and y_test are equal .... accuracy will be 1"
      ]
    },
    {
      "cell_type": "code",
      "metadata": {
        "colab": {
          "base_uri": "https://localhost:8080/"
        },
        "id": "5XMwQv8guPsk",
        "outputId": "131dff1e-0ccd-400e-cfc6-28dd9fe8fd6c"
      },
      "source": [
        "model.score(X_test,y_test)"
      ],
      "execution_count": null,
      "outputs": [
        {
          "output_type": "execute_result",
          "data": {
            "text/plain": [
              "1.0"
            ]
          },
          "metadata": {
            "tags": []
          },
          "execution_count": 46
        }
      ]
    },
    {
      "cell_type": "code",
      "metadata": {
        "colab": {
          "base_uri": "https://localhost:8080/"
        },
        "id": "-pUMvdXSuQ5m",
        "outputId": "db053f4f-2716-4659-d73d-51cdaf554053"
      },
      "source": [
        "model.predict_proba(X_test)      ##predicts probability of data points on the basis of output variable"
      ],
      "execution_count": null,
      "outputs": [
        {
          "output_type": "execute_result",
          "data": {
            "text/plain": [
              "array([[0.07579537, 0.92420463],\n",
              "       [0.9065016 , 0.0934984 ],\n",
              "       [0.87333268, 0.12666732],\n",
              "       [0.79618069, 0.20381931],\n",
              "       [0.81400161, 0.18599839],\n",
              "       [0.22253675, 0.77746325]])"
            ]
          },
          "metadata": {
            "tags": []
          },
          "execution_count": 47
        }
      ]
    },
    {
      "cell_type": "code",
      "metadata": {
        "colab": {
          "base_uri": "https://localhost:8080/"
        },
        "id": "jTo0z-NWvauY",
        "outputId": "c05165c4-f784-44e8-925b-4f16c4919ac5"
      },
      "source": [
        "model.predict([[25],[50]])"
      ],
      "execution_count": null,
      "outputs": [
        {
          "output_type": "execute_result",
          "data": {
            "text/plain": [
              "array([0, 1])"
            ]
          },
          "metadata": {
            "tags": []
          },
          "execution_count": 69
        }
      ]
    },
    {
      "cell_type": "code",
      "metadata": {
        "id": "z-e4hT1OwEsS"
      },
      "source": [
        "X_newtest = ([[10],[54],[80],[25],[60.2362]])"
      ],
      "execution_count": null,
      "outputs": []
    },
    {
      "cell_type": "code",
      "metadata": {
        "colab": {
          "base_uri": "https://localhost:8080/"
        },
        "id": "q5-5a8mMwcOR",
        "outputId": "12186c0d-c24a-4574-95d8-cc411143f268"
      },
      "source": [
        "model.predict(X_newtest)"
      ],
      "execution_count": null,
      "outputs": [
        {
          "output_type": "execute_result",
          "data": {
            "text/plain": [
              "array([0, 1, 1, 0, 1])"
            ]
          },
          "metadata": {
            "tags": []
          },
          "execution_count": 68
        }
      ]
    },
    {
      "cell_type": "code",
      "metadata": {
        "id": "6puXtu3ExaqM"
      },
      "source": [
        "y_new = model.predict(X_newtest)"
      ],
      "execution_count": null,
      "outputs": []
    },
    {
      "cell_type": "code",
      "metadata": {
        "colab": {
          "base_uri": "https://localhost:8080/",
          "height": 283
        },
        "id": "Mh8JiNc-xF9V",
        "outputId": "e2263b78-675a-4a8b-ac6b-cf8ca4ff9ea5"
      },
      "source": [
        "plt.scatter(X_newtest, y_new, color = 'blue')"
      ],
      "execution_count": null,
      "outputs": [
        {
          "output_type": "execute_result",
          "data": {
            "text/plain": [
              "<matplotlib.collections.PathCollection at 0x7ff01532e3d0>"
            ]
          },
          "metadata": {
            "tags": []
          },
          "execution_count": 73
        },
        {
          "output_type": "display_data",
          "data": {
            "image/png": "[encoded data removed]",
            "text/plain": [
              "<Figure size 432x288 with 1 Axes>"
            ]
          },
          "metadata": {
            "tags": [],
            "needs_background": "light"
          }
        }
      ]
    },
    {
      "cell_type": "markdown",
      "metadata": {
        "id": "qOBniuot7jpo"
      },
      "source": [
        "**SIGMOID FUNCTION** "
      ]
    },
    {
      "cell_type": "markdown",
      "metadata": {
        "id": "n3F9g3757rRk"
      },
      "source": [
        "***What is the Sigmoid Function?***\n",
        " \n",
        "It is a mathematical function having a characteristic that can take any real value and map it to between 0 to 1 shaped like the letter “S”. The sigmoid function also called a logistic function.\n",
        "\n",
        "\n",
        "\n",
        "---\n",
        "\n",
        "\n",
        "Formula\n",
        "\n",
        "\n",
        "> Y = 1 / 1+e -z\n",
        "\n"
      ]
    },
    {
      "cell_type": "markdown",
      "metadata": {
        "id": "vfnv6T3k7PqJ"
      },
      "source": [
        "![logistic_regression_sigmoid_w_threshold.png](data:image/png;base64,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)"
      ]
    },
    {
      "cell_type": "code",
      "metadata": {
        "colab": {
          "base_uri": "https://localhost:8080/"
        },
        "id": "gQJUI56S5JuL",
        "outputId": "a51fab92-b2bd-416e-9205-10a1b0e90571"
      },
      "source": [
        "model.coef_                 ## model.coef_ indicates value of m in y=m*x + b equation"
      ],
      "execution_count": 77,
      "outputs": [
        {
          "output_type": "execute_result",
          "data": {
            "text/plain": [
              "array([[0.11363202]])"
            ]
          },
          "metadata": {
            "tags": []
          },
          "execution_count": 77
        }
      ]
    },
    {
      "cell_type": "code",
      "metadata": {
        "colab": {
          "base_uri": "https://localhost:8080/"
        },
        "id": "yjpyNvSR52tO",
        "outputId": "f7682305-e48b-44b9-a7e0-552cf177884f"
      },
      "source": [
        "model.intercept_           ## model.intercept_ indicates value of b in y=m*x + b equation"
      ],
      "execution_count": 78,
      "outputs": [
        {
          "output_type": "execute_result",
          "data": {
            "text/plain": [
              "array([-4.31702478])"
            ]
          },
          "metadata": {
            "tags": []
          },
          "execution_count": 78
        }
      ]
    },
    {
      "cell_type": "code",
      "metadata": {
        "id": "hTAMWQ125_Vc"
      },
      "source": [
        "import math\n",
        "def sigmoid(x):\n",
        "  return 1 / (1 + math.exp(-x))"
      ],
      "execution_count": 79,
      "outputs": []
    },
    {
      "cell_type": "code",
      "metadata": {
        "id": "5g7R94LS-SEd"
      },
      "source": [
        "def prediction_function(age):\n",
        "    z = 0.042 * age - 1.53                   ## 0.04150133 ~ 0.042 and -1.52726963 ~ -1.53\n",
        "    y = sigmoid(z)\n",
        "    return y"
      ],
      "execution_count": 80,
      "outputs": []
    },
    {
      "cell_type": "code",
      "metadata": {
        "colab": {
          "base_uri": "https://localhost:8080/"
        },
        "id": "dVT7mPzj-Xs-",
        "outputId": "3baa48e7-5db3-4eb9-f41c-7aa3d34a6787"
      },
      "source": [
        "age = 35\n",
        "prediction_function(age)"
      ],
      "execution_count": 81,
      "outputs": [
        {
          "output_type": "execute_result",
          "data": {
            "text/plain": [
              "0.4850044983805899"
            ]
          },
          "metadata": {
            "tags": []
          },
          "execution_count": 81
        }
      ]
    },
    {
      "cell_type": "markdown",
      "metadata": {
        "id": "17aa4-Z4-gXO"
      },
      "source": [
        "0.485 is less than 0.5 which means person with 35 age will ***not*** buy insurance"
      ]
    },
    {
      "cell_type": "code",
      "metadata": {
        "colab": {
          "base_uri": "https://localhost:8080/"
        },
        "id": "fywuP4XG-iH3",
        "outputId": "e0fcca61-edec-480c-d390-cbfb1b7850ca"
      },
      "source": [
        "age = 73\n",
        "prediction_function(age)"
      ],
      "execution_count": 82,
      "outputs": [
        {
          "output_type": "execute_result",
          "data": {
            "text/plain": [
              "0.8228824903813157"
            ]
          },
          "metadata": {
            "tags": []
          },
          "execution_count": 82
        }
      ]
    },
    {
      "cell_type": "markdown",
      "metadata": {
        "id": "nZ2fAoCt-s76"
      },
      "source": [
        "0.8228 is greater than 0.5 which means person with 35 age will  **buy** insurance"
      ]
    }
  ]
}