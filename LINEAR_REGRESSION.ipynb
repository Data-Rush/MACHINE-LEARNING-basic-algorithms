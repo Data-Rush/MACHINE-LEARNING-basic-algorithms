{
  "nbformat": 4,
  "nbformat_minor": 0,
  "metadata": {
    "colab": {
      "name": "LINEAR_REGRESSION.ipynb",
      "provenance": [],
      "collapsed_sections": [],
      "authorship_tag": "ABX9TyMsmWM/WsW5xCezE+dtVFrv"
    },
    "kernelspec": {
      "name": "python3",
      "display_name": "Python 3"
    },
    "language_info": {
      "name": "python"
    }
  },
  "cells": [
    {
      "cell_type": "markdown",
      "metadata": {
        "id": "NFh0ryz3NOcy"
      },
      "source": [
        "SIMPLE LINEAR REGRESSION\n",
        "\n",
        "> Using Height - Weight Dataset\n",
        "\n"
      ]
    },
    {
      "cell_type": "code",
      "metadata": {
        "id": "GzNtKAp3lKNM"
      },
      "source": [
        "import pandas as pd\n",
        "import numpy as np\n",
        "from sklearn import linear_model"
      ],
      "execution_count": null,
      "outputs": []
    },
    {
      "cell_type": "code",
      "metadata": {
        "id": "D7XFPNxfljFX"
      },
      "source": [
        "data = pd.read_csv('https://gist.github.com/nstokoe/7d4717e96c21b8ad04ec91f361b000cb/raw/bf95a2e30fceb9f2ae990eac8379fc7d844a0196/weight-height.csv')"
      ],
      "execution_count": null,
      "outputs": []
    },
    {
      "cell_type": "code",
      "metadata": {
        "colab": {
          "base_uri": "https://localhost:8080/",
          "height": 195
        },
        "id": "9eXd0Bs_mNKu",
        "outputId": "377a915a-dd7e-47ba-974b-3e3dc54c2c48"
      },
      "source": [
        "data.head()"
      ],
      "execution_count": null,
      "outputs": [
        {
          "output_type": "execute_result",
          "data": {
            "text/html": [
              "<div>\n",
              "<style scoped>\n",
              "    .dataframe tbody tr th:only-of-type {\n",
              "        vertical-align: middle;\n",
              "    }\n",
              "\n",
              "    .dataframe tbody tr th {\n",
              "        vertical-align: top;\n",
              "    }\n",
              "\n",
              "    .dataframe thead th {\n",
              "        text-align: right;\n",
              "    }\n",
              "</style>\n",
              "<table border=\"1\" class=\"dataframe\">\n",
              "  <thead>\n",
              "    <tr style=\"text-align: right;\">\n",
              "      <th></th>\n",
              "      <th>Gender</th>\n",
              "      <th>Height</th>\n",
              "      <th>Weight</th>\n",
              "    </tr>\n",
              "  </thead>\n",
              "  <tbody>\n",
              "    <tr>\n",
              "      <th>0</th>\n",
              "      <td>Male</td>\n",
              "      <td>73.847017</td>\n",
              "      <td>241.893563</td>\n",
              "    </tr>\n",
              "    <tr>\n",
              "      <th>1</th>\n",
              "      <td>Male</td>\n",
              "      <td>68.781904</td>\n",
              "      <td>162.310473</td>\n",
              "    </tr>\n",
              "    <tr>\n",
              "      <th>2</th>\n",
              "      <td>Male</td>\n",
              "      <td>74.110105</td>\n",
              "      <td>212.740856</td>\n",
              "    </tr>\n",
              "    <tr>\n",
              "      <th>3</th>\n",
              "      <td>Male</td>\n",
              "      <td>71.730978</td>\n",
              "      <td>220.042470</td>\n",
              "    </tr>\n",
              "    <tr>\n",
              "      <th>4</th>\n",
              "      <td>Male</td>\n",
              "      <td>69.881796</td>\n",
              "      <td>206.349801</td>\n",
              "    </tr>\n",
              "  </tbody>\n",
              "</table>\n",
              "</div>"
            ],
            "text/plain": [
              "  Gender     Height      Weight\n",
              "0   Male  73.847017  241.893563\n",
              "1   Male  68.781904  162.310473\n",
              "2   Male  74.110105  212.740856\n",
              "3   Male  71.730978  220.042470\n",
              "4   Male  69.881796  206.349801"
            ]
          },
          "metadata": {
            "tags": []
          },
          "execution_count": 4
        }
      ]
    },
    {
      "cell_type": "code",
      "metadata": {
        "id": "8W4vxEqOxD_b"
      },
      "source": [
        " df = data.sample(40)"
      ],
      "execution_count": null,
      "outputs": []
    },
    {
      "cell_type": "code",
      "metadata": {
        "id": "RlYnQz_YxQGP"
      },
      "source": [
        "df.reset_index(drop=True, inplace=True)"
      ],
      "execution_count": null,
      "outputs": []
    },
    {
      "cell_type": "code",
      "metadata": {
        "colab": {
          "base_uri": "https://localhost:8080/",
          "height": 1000
        },
        "id": "C3y24OsuxuT7",
        "outputId": "d9bdcf57-ed85-4349-efad-f3298a5bc634"
      },
      "source": [
        "df"
      ],
      "execution_count": null,
      "outputs": [
        {
          "output_type": "execute_result",
          "data": {
            "text/html": [
              "<div>\n",
              "<style scoped>\n",
              "    .dataframe tbody tr th:only-of-type {\n",
              "        vertical-align: middle;\n",
              "    }\n",
              "\n",
              "    .dataframe tbody tr th {\n",
              "        vertical-align: top;\n",
              "    }\n",
              "\n",
              "    .dataframe thead th {\n",
              "        text-align: right;\n",
              "    }\n",
              "</style>\n",
              "<table border=\"1\" class=\"dataframe\">\n",
              "  <thead>\n",
              "    <tr style=\"text-align: right;\">\n",
              "      <th></th>\n",
              "      <th>Gender</th>\n",
              "      <th>Height</th>\n",
              "      <th>Weight</th>\n",
              "    </tr>\n",
              "  </thead>\n",
              "  <tbody>\n",
              "    <tr>\n",
              "      <th>0</th>\n",
              "      <td>Male</td>\n",
              "      <td>73.056344</td>\n",
              "      <td>204.460332</td>\n",
              "    </tr>\n",
              "    <tr>\n",
              "      <th>1</th>\n",
              "      <td>Female</td>\n",
              "      <td>59.049512</td>\n",
              "      <td>112.029946</td>\n",
              "    </tr>\n",
              "    <tr>\n",
              "      <th>2</th>\n",
              "      <td>Male</td>\n",
              "      <td>67.530606</td>\n",
              "      <td>167.613777</td>\n",
              "    </tr>\n",
              "    <tr>\n",
              "      <th>3</th>\n",
              "      <td>Female</td>\n",
              "      <td>60.809799</td>\n",
              "      <td>126.915463</td>\n",
              "    </tr>\n",
              "    <tr>\n",
              "      <th>4</th>\n",
              "      <td>Male</td>\n",
              "      <td>69.889738</td>\n",
              "      <td>203.390801</td>\n",
              "    </tr>\n",
              "    <tr>\n",
              "      <th>5</th>\n",
              "      <td>Male</td>\n",
              "      <td>72.657404</td>\n",
              "      <td>191.928823</td>\n",
              "    </tr>\n",
              "    <tr>\n",
              "      <th>6</th>\n",
              "      <td>Female</td>\n",
              "      <td>61.736061</td>\n",
              "      <td>145.559463</td>\n",
              "    </tr>\n",
              "    <tr>\n",
              "      <th>7</th>\n",
              "      <td>Male</td>\n",
              "      <td>70.475544</td>\n",
              "      <td>197.894757</td>\n",
              "    </tr>\n",
              "    <tr>\n",
              "      <th>8</th>\n",
              "      <td>Male</td>\n",
              "      <td>68.156312</td>\n",
              "      <td>177.003760</td>\n",
              "    </tr>\n",
              "    <tr>\n",
              "      <th>9</th>\n",
              "      <td>Female</td>\n",
              "      <td>62.807493</td>\n",
              "      <td>137.580037</td>\n",
              "    </tr>\n",
              "    <tr>\n",
              "      <th>10</th>\n",
              "      <td>Male</td>\n",
              "      <td>68.447579</td>\n",
              "      <td>187.907426</td>\n",
              "    </tr>\n",
              "    <tr>\n",
              "      <th>11</th>\n",
              "      <td>Male</td>\n",
              "      <td>68.312342</td>\n",
              "      <td>169.780840</td>\n",
              "    </tr>\n",
              "    <tr>\n",
              "      <th>12</th>\n",
              "      <td>Female</td>\n",
              "      <td>66.535511</td>\n",
              "      <td>155.370872</td>\n",
              "    </tr>\n",
              "    <tr>\n",
              "      <th>13</th>\n",
              "      <td>Female</td>\n",
              "      <td>62.825081</td>\n",
              "      <td>111.615090</td>\n",
              "    </tr>\n",
              "    <tr>\n",
              "      <th>14</th>\n",
              "      <td>Male</td>\n",
              "      <td>70.996259</td>\n",
              "      <td>185.895287</td>\n",
              "    </tr>\n",
              "    <tr>\n",
              "      <th>15</th>\n",
              "      <td>Male</td>\n",
              "      <td>71.859849</td>\n",
              "      <td>196.351300</td>\n",
              "    </tr>\n",
              "    <tr>\n",
              "      <th>16</th>\n",
              "      <td>Male</td>\n",
              "      <td>74.669197</td>\n",
              "      <td>227.460304</td>\n",
              "    </tr>\n",
              "    <tr>\n",
              "      <th>17</th>\n",
              "      <td>Female</td>\n",
              "      <td>65.361291</td>\n",
              "      <td>144.026950</td>\n",
              "    </tr>\n",
              "    <tr>\n",
              "      <th>18</th>\n",
              "      <td>Female</td>\n",
              "      <td>66.355647</td>\n",
              "      <td>154.602145</td>\n",
              "    </tr>\n",
              "    <tr>\n",
              "      <th>19</th>\n",
              "      <td>Male</td>\n",
              "      <td>68.585315</td>\n",
              "      <td>191.026244</td>\n",
              "    </tr>\n",
              "    <tr>\n",
              "      <th>20</th>\n",
              "      <td>Male</td>\n",
              "      <td>71.638821</td>\n",
              "      <td>196.420170</td>\n",
              "    </tr>\n",
              "    <tr>\n",
              "      <th>21</th>\n",
              "      <td>Male</td>\n",
              "      <td>69.957342</td>\n",
              "      <td>191.495527</td>\n",
              "    </tr>\n",
              "    <tr>\n",
              "      <th>22</th>\n",
              "      <td>Male</td>\n",
              "      <td>70.473678</td>\n",
              "      <td>199.356144</td>\n",
              "    </tr>\n",
              "    <tr>\n",
              "      <th>23</th>\n",
              "      <td>Female</td>\n",
              "      <td>62.955950</td>\n",
              "      <td>130.917234</td>\n",
              "    </tr>\n",
              "    <tr>\n",
              "      <th>24</th>\n",
              "      <td>Male</td>\n",
              "      <td>73.706027</td>\n",
              "      <td>231.697887</td>\n",
              "    </tr>\n",
              "    <tr>\n",
              "      <th>25</th>\n",
              "      <td>Female</td>\n",
              "      <td>62.534230</td>\n",
              "      <td>126.162458</td>\n",
              "    </tr>\n",
              "    <tr>\n",
              "      <th>26</th>\n",
              "      <td>Male</td>\n",
              "      <td>66.615489</td>\n",
              "      <td>165.350101</td>\n",
              "    </tr>\n",
              "    <tr>\n",
              "      <th>27</th>\n",
              "      <td>Male</td>\n",
              "      <td>66.683751</td>\n",
              "      <td>174.571334</td>\n",
              "    </tr>\n",
              "    <tr>\n",
              "      <th>28</th>\n",
              "      <td>Female</td>\n",
              "      <td>65.845316</td>\n",
              "      <td>146.965778</td>\n",
              "    </tr>\n",
              "    <tr>\n",
              "      <th>29</th>\n",
              "      <td>Female</td>\n",
              "      <td>65.248574</td>\n",
              "      <td>154.909310</td>\n",
              "    </tr>\n",
              "    <tr>\n",
              "      <th>30</th>\n",
              "      <td>Male</td>\n",
              "      <td>66.424187</td>\n",
              "      <td>157.288088</td>\n",
              "    </tr>\n",
              "    <tr>\n",
              "      <th>31</th>\n",
              "      <td>Female</td>\n",
              "      <td>68.900899</td>\n",
              "      <td>192.640037</td>\n",
              "    </tr>\n",
              "    <tr>\n",
              "      <th>32</th>\n",
              "      <td>Female</td>\n",
              "      <td>61.008544</td>\n",
              "      <td>118.038053</td>\n",
              "    </tr>\n",
              "    <tr>\n",
              "      <th>33</th>\n",
              "      <td>Male</td>\n",
              "      <td>69.272813</td>\n",
              "      <td>202.298760</td>\n",
              "    </tr>\n",
              "    <tr>\n",
              "      <th>34</th>\n",
              "      <td>Male</td>\n",
              "      <td>66.634691</td>\n",
              "      <td>190.467959</td>\n",
              "    </tr>\n",
              "    <tr>\n",
              "      <th>35</th>\n",
              "      <td>Male</td>\n",
              "      <td>70.642803</td>\n",
              "      <td>187.506566</td>\n",
              "    </tr>\n",
              "    <tr>\n",
              "      <th>36</th>\n",
              "      <td>Female</td>\n",
              "      <td>66.258258</td>\n",
              "      <td>160.530053</td>\n",
              "    </tr>\n",
              "    <tr>\n",
              "      <th>37</th>\n",
              "      <td>Male</td>\n",
              "      <td>63.914541</td>\n",
              "      <td>167.842392</td>\n",
              "    </tr>\n",
              "    <tr>\n",
              "      <th>38</th>\n",
              "      <td>Female</td>\n",
              "      <td>61.849384</td>\n",
              "      <td>122.413021</td>\n",
              "    </tr>\n",
              "    <tr>\n",
              "      <th>39</th>\n",
              "      <td>Male</td>\n",
              "      <td>69.743805</td>\n",
              "      <td>186.705760</td>\n",
              "    </tr>\n",
              "  </tbody>\n",
              "</table>\n",
              "</div>"
            ],
            "text/plain": [
              "    Gender     Height      Weight\n",
              "0     Male  73.056344  204.460332\n",
              "1   Female  59.049512  112.029946\n",
              "2     Male  67.530606  167.613777\n",
              "3   Female  60.809799  126.915463\n",
              "4     Male  69.889738  203.390801\n",
              "5     Male  72.657404  191.928823\n",
              "6   Female  61.736061  145.559463\n",
              "7     Male  70.475544  197.894757\n",
              "8     Male  68.156312  177.003760\n",
              "9   Female  62.807493  137.580037\n",
              "10    Male  68.447579  187.907426\n",
              "11    Male  68.312342  169.780840\n",
              "12  Female  66.535511  155.370872\n",
              "13  Female  62.825081  111.615090\n",
              "14    Male  70.996259  185.895287\n",
              "15    Male  71.859849  196.351300\n",
              "16    Male  74.669197  227.460304\n",
              "17  Female  65.361291  144.026950\n",
              "18  Female  66.355647  154.602145\n",
              "19    Male  68.585315  191.026244\n",
              "20    Male  71.638821  196.420170\n",
              "21    Male  69.957342  191.495527\n",
              "22    Male  70.473678  199.356144\n",
              "23  Female  62.955950  130.917234\n",
              "24    Male  73.706027  231.697887\n",
              "25  Female  62.534230  126.162458\n",
              "26    Male  66.615489  165.350101\n",
              "27    Male  66.683751  174.571334\n",
              "28  Female  65.845316  146.965778\n",
              "29  Female  65.248574  154.909310\n",
              "30    Male  66.424187  157.288088\n",
              "31  Female  68.900899  192.640037\n",
              "32  Female  61.008544  118.038053\n",
              "33    Male  69.272813  202.298760\n",
              "34    Male  66.634691  190.467959\n",
              "35    Male  70.642803  187.506566\n",
              "36  Female  66.258258  160.530053\n",
              "37    Male  63.914541  167.842392\n",
              "38  Female  61.849384  122.413021\n",
              "39    Male  69.743805  186.705760"
            ]
          },
          "metadata": {
            "tags": []
          },
          "execution_count": 7
        }
      ]
    },
    {
      "cell_type": "code",
      "metadata": {
        "id": "I8MMRS_IyO_U"
      },
      "source": [
        "import matplotlib.pyplot as plt"
      ],
      "execution_count": null,
      "outputs": []
    },
    {
      "cell_type": "code",
      "metadata": {
        "colab": {
          "base_uri": "https://localhost:8080/",
          "height": 295
        },
        "id": "cFr3ZmYXx3zs",
        "outputId": "196dfc3b-67aa-4400-94f2-00546fbd83de"
      },
      "source": [
        "x1 = df.iloc[:, 0].values\n",
        "y1 = df.iloc[:, 2].values\n",
        "plt.scatter(x1,y1,label='Gender',color='Green',s=50)\n",
        "plt.xlabel('Gender')\n",
        "plt.ylabel('Weight')\n",
        "plt.title('Gender vs Weight')\n",
        "plt.legend()\n",
        "plt.show()"
      ],
      "execution_count": null,
      "outputs": [
        {
          "output_type": "display_data",
          "data": {
            "image/png": "[encoded data removed]",
            "text/plain": [
              "<Figure size 432x288 with 1 Axes>"
            ]
          },
          "metadata": {
            "tags": [],
            "needs_background": "light"
          }
        }
      ]
    },
    {
      "cell_type": "code",
      "metadata": {
        "colab": {
          "base_uri": "https://localhost:8080/",
          "height": 295
        },
        "id": "01tAIXo_yXXG",
        "outputId": "dde02d9f-1014-43d8-e018-bedb83ec9eab"
      },
      "source": [
        "#Plot Height vs Weight............\n",
        "x2 = df.iloc[:, 1].values\n",
        "y2 = df.iloc[:, 2].values\n",
        "plt.scatter(x2,y2,label='Height',color='Orange',s=50)\n",
        "plt.xlabel('Height')\n",
        "plt.ylabel('Weight')\n",
        "plt.title('Height vs Weight')\n",
        "plt.legend(loc=\"upper left\")\n",
        "plt.show()"
      ],
      "execution_count": null,
      "outputs": [
        {
          "output_type": "display_data",
          "data": {
            "image/png": "[encoded data removed]",
            "text/plain": [
              "<Figure size 432x288 with 1 Axes>"
            ]
          },
          "metadata": {
            "tags": [],
            "needs_background": "light"
          }
        }
      ]
    },
    {
      "cell_type": "code",
      "metadata": {
        "colab": {
          "base_uri": "https://localhost:8080/"
        },
        "id": "HWgzUY_byndZ",
        "outputId": "5d76bc48-69b9-42fd-f323-30bf65f9957e"
      },
      "source": [
        "#separating the dependent and independent values....\n",
        "#X-Independent variable\n",
        "X = df.iloc[:, 1:2].values\n",
        "print(X)"
      ],
      "execution_count": null,
      "outputs": [
        {
          "output_type": "stream",
          "text": [
            "[[73.05634425]\n",
            " [59.04951185]\n",
            " [67.53060627]\n",
            " [60.80979868]\n",
            " [69.88973762]\n",
            " [72.65740446]\n",
            " [61.73606109]\n",
            " [70.47554358]\n",
            " [68.15631187]\n",
            " [62.80749282]\n",
            " [68.44757854]\n",
            " [68.31234188]\n",
            " [66.53551113]\n",
            " [62.82508056]\n",
            " [70.99625876]\n",
            " [71.85984886]\n",
            " [74.66919682]\n",
            " [65.3612908 ]\n",
            " [66.35564749]\n",
            " [68.58531497]\n",
            " [71.63882142]\n",
            " [69.95734172]\n",
            " [70.47367765]\n",
            " [62.95594951]\n",
            " [73.70602717]\n",
            " [62.53423005]\n",
            " [66.6154889 ]\n",
            " [66.68375106]\n",
            " [65.84531638]\n",
            " [65.24857389]\n",
            " [66.42418713]\n",
            " [68.90089946]\n",
            " [61.00854419]\n",
            " [69.27281261]\n",
            " [66.63469083]\n",
            " [70.64280292]\n",
            " [66.25825803]\n",
            " [63.91454108]\n",
            " [61.84938402]\n",
            " [69.7438052 ]]\n"
          ],
          "name": "stdout"
        }
      ]
    },
    {
      "cell_type": "code",
      "metadata": {
        "colab": {
          "base_uri": "https://localhost:8080/"
        },
        "id": "yHyRDqX9ywgE",
        "outputId": "dcf54b9e-026b-4ea7-fbef-b159b43096f1"
      },
      "source": [
        "#y-dependent or target variable\n",
        "y = df.iloc[:, 2].values\n",
        "print(y)"
      ],
      "execution_count": null,
      "outputs": [
        {
          "output_type": "stream",
          "text": [
            "[204.46033162 112.02994579 167.61377686 126.91546328 203.39080082\n",
            " 191.92882348 145.5594625  197.89475743 177.00376006 137.58003659\n",
            " 187.90742599 169.78083973 155.37087201 111.61508992 185.89528729\n",
            " 196.35129976 227.46030384 144.02694995 154.60214534 191.02624393\n",
            " 196.42017026 191.49552652 199.35614398 130.91723392 231.69788726\n",
            " 126.16245834 165.35010077 174.5713344  146.96577847 154.90931018\n",
            " 157.28808796 192.64003725 118.03805327 202.29876015 190.46795878\n",
            " 187.50656637 160.53005251 167.84239151 122.41302079 186.70575959]\n"
          ],
          "name": "stdout"
        }
      ]
    },
    {
      "cell_type": "code",
      "metadata": {
        "id": "5DK4xorEy13c"
      },
      "source": [
        "#Splitting the dataset into training and testing set \n",
        "\n",
        "from sklearn.model_selection import train_test_split\n",
        "X_train, X_test, y_train, y_test = train_test_split(X, y, test_size=0.2, random_state=123)"
      ],
      "execution_count": null,
      "outputs": []
    },
    {
      "cell_type": "code",
      "metadata": {
        "id": "6cvXgt8ZzGRK"
      },
      "source": [
        "#Creating linear regression model\n",
        "from sklearn.linear_model import LinearRegression\n",
        "regressor = LinearRegression()\n",
        "model  = regressor.fit(X_train, y_train)\n",
        "\n",
        "#predicting the test set\n",
        "y_pred = regressor.predict(X_test)"
      ],
      "execution_count": null,
      "outputs": []
    },
    {
      "cell_type": "code",
      "metadata": {
        "colab": {
          "base_uri": "https://localhost:8080/",
          "height": 295
        },
        "id": "X6p2UMR3zQFL",
        "outputId": "0c8ba526-daac-4b74-d53f-73f061cd9eef"
      },
      "source": [
        "# Visualising the Training set results\n",
        "plt.scatter(X_train, y_train, color = 'black')\n",
        "plt.plot(X_train, regressor.predict(X_train), color = 'blue')\n",
        "plt.title('Hight vs Weights (Training set)')\n",
        "plt.xlabel('Hight')\n",
        "plt.ylabel('Weight')\n",
        "plt.show()"
      ],
      "execution_count": null,
      "outputs": [
        {
          "output_type": "display_data",
          "data": {
            "image/png": "[encoded data removed]",
            "text/plain": [
              "<Figure size 432x288 with 1 Axes>"
            ]
          },
          "metadata": {
            "tags": [],
            "needs_background": "light"
          }
        }
      ]
    },
    {
      "cell_type": "code",
      "metadata": {
        "colab": {
          "base_uri": "https://localhost:8080/",
          "height": 295
        },
        "id": "RhhxkeckzYRf",
        "outputId": "e943c904-ad50-4b09-8e7d-1653b96a1d00"
      },
      "source": [
        "# Visualising the Test set results\n",
        "plt.scatter(X_test, y_test, color = 'black')\n",
        "plt.plot(X_train, regressor.predict(X_train), color = 'blue')\n",
        "plt.title('Hight vs weights (Test set)')\n",
        "plt.xlabel('Height')\n",
        "plt.ylabel('Weight')\n",
        "plt.show()"
      ],
      "execution_count": null,
      "outputs": [
        {
          "output_type": "display_data",
          "data": {
            "image/png": "[encoded data removed]",
            "text/plain": [
              "<Figure size 432x288 with 1 Axes>"
            ]
          },
          "metadata": {
            "tags": [],
            "needs_background": "light"
          }
        }
      ]
    },
    {
      "cell_type": "code",
      "metadata": {
        "colab": {
          "base_uri": "https://localhost:8080/"
        },
        "id": "k6kTOc-IzdgO",
        "outputId": "e5c03990-9f9b-45e3-e7eb-afbb6bfa741f"
      },
      "source": [
        "# Predicting the Test set results\n",
        "y_pred = regressor.predict(X_test)\n",
        "print('Coefficients: ', regressor.coef_)\n",
        "# The mean squared error\n",
        "print(\"Mean squared error: %.2f\" % np.mean((regressor.predict(X_test) - y_test) ** 2))\n",
        "# Explained variance score: 1 is perfect prediction\n",
        "print('Variance score: %.2f' % regressor.score(X_test, y_test))"
      ],
      "execution_count": null,
      "outputs": [
        {
          "output_type": "stream",
          "text": [
            "Coefficients:  [7.83313717]\n",
            "Mean squared error: 137.09\n",
            "Variance score: 0.82\n"
          ],
          "name": "stdout"
        }
      ]
    },
    {
      "cell_type": "code",
      "metadata": {
        "id": "q1j1UymU1QQX"
      },
      "source": [
        "X_newtest = ([[60],[54],[80],[55],[60.2362]])\n",
        "\n",
        "y_pred = regressor.predict(X_newtest)\n"
      ],
      "execution_count": null,
      "outputs": []
    },
    {
      "cell_type": "code",
      "metadata": {
        "colab": {
          "base_uri": "https://localhost:8080/"
        },
        "id": "S_d-nopI2Omk",
        "outputId": "2483f626-67a8-4304-ec02-e9b5d883a901"
      },
      "source": [
        "y_pred"
      ],
      "execution_count": null,
      "outputs": [
        {
          "output_type": "execute_result",
          "data": {
            "text/plain": [
              "array([113.32980864,  66.33098565, 269.99255194,  74.16412282,\n",
              "       115.17999564])"
            ]
          },
          "metadata": {
            "tags": []
          },
          "execution_count": 21
        }
      ]
    },
    {
      "cell_type": "code",
      "metadata": {
        "colab": {
          "base_uri": "https://localhost:8080/",
          "height": 295
        },
        "id": "ImkHBIjF24Gw",
        "outputId": "373bd643-4686-4fe3-8f3a-003317737e7e"
      },
      "source": [
        "plt.scatter(X_newtest, y_pred, color = 'black')\n",
        "plt.plot(X_newtest, regressor.predict(X_newtest), color = 'red')\n",
        "plt.title('Hight vs weights (new test)')\n",
        "plt.xlabel('Height')\n",
        "plt.ylabel('Weight')\n",
        "plt.show()"
      ],
      "execution_count": null,
      "outputs": [
        {
          "output_type": "display_data",
          "data": {
            "image/png": "[encoded data removed]",
            "text/plain": [
              "<Figure size 432x288 with 1 Axes>"
            ]
          },
          "metadata": {
            "tags": [],
            "needs_background": "light"
          }
        }
      ]
    }
  ]
}