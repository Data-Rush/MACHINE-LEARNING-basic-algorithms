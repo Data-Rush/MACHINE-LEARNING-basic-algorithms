{
  "nbformat": 4,
  "nbformat_minor": 0,
  "metadata": {
    "colab": {
      "name": "MLA1.ipynb",
      "provenance": [],
      "collapsed_sections": [
        "qx63kzFeuvHe",
        "cqetmyMFMTvM",
        "RBX1o4VDSDw3",
        "NROCRSXaXlRp"
      ],
      "authorship_tag": "ABX9TyPO8+H8cCFi07SuI3SieoXD"
    },
    "kernelspec": {
      "name": "python3",
      "display_name": "Python 3"
    },
    "language_info": {
      "name": "python"
    }
  },
  "cells": [
    {
      "cell_type": "markdown",
      "metadata": {
        "id": "qx63kzFeuvHe"
      },
      "source": [
        "# ***TUTORIAL 1***"
      ]
    },
    {
      "cell_type": "code",
      "metadata": {
        "colab": {
          "base_uri": "https://localhost:8080/"
        },
        "id": "LHkr94xvu5VY",
        "outputId": "cdab2bc8-b014-4f5f-bf92-f955bb36db07"
      },
      "source": [
        "a= 2*4\n",
        "b= 2**4\n",
        "c= 11%3\n",
        "print(a,b,c)\n",
        "d= ('arrow')"
      ],
      "execution_count": null,
      "outputs": [
        {
          "output_type": "stream",
          "text": [
            "8 16 2\n"
          ],
          "name": "stdout"
        }
      ]
    },
    {
      "cell_type": "code",
      "metadata": {
        "colab": {
          "base_uri": "https://localhost:8080/"
        },
        "id": "3KtdW_6fvpH_",
        "outputId": "7e7714b9-b6cd-4902-fa31-fb752b9b8325"
      },
      "source": [
        "\n",
        "type(True)\n",
        "type('True')"
      ],
      "execution_count": null,
      "outputs": [
        {
          "output_type": "execute_result",
          "data": {
            "text/plain": [
              "str"
            ]
          },
          "metadata": {
            "tags": []
          },
          "execution_count": 23
        }
      ]
    },
    {
      "cell_type": "markdown",
      "metadata": {
        "id": "iwloXGnLx5WT"
      },
      "source": [
        ".**format**"
      ]
    },
    {
      "cell_type": "code",
      "metadata": {
        "colab": {
          "base_uri": "https://localhost:8080/"
        },
        "id": "jx7qoadowo6N",
        "outputId": "ebdd23f2-6cf0-4b60-a3b1-3872458c2ccd"
      },
      "source": [
        "print(\"{} is a {}\".format('buddy','dog'))"
      ],
      "execution_count": null,
      "outputs": [
        {
          "output_type": "stream",
          "text": [
            "buddy is a dog\n"
          ],
          "name": "stdout"
        }
      ]
    },
    {
      "cell_type": "code",
      "metadata": {
        "colab": {
          "base_uri": "https://localhost:8080/"
        },
        "id": "mLX89NAHyAq4",
        "outputId": "74ae06c2-1ef2-421d-a85e-4984d891125a"
      },
      "source": [
        "a = 'rowdy'\n",
        "b = 'rathod'\n",
        "\n",
        "print('my name is {} and last name is {}' .format(a,b))"
      ],
      "execution_count": null,
      "outputs": [
        {
          "output_type": "stream",
          "text": [
            "my name is rowdy and last name is rathod\n"
          ],
          "name": "stdout"
        }
      ]
    },
    {
      "cell_type": "code",
      "metadata": {
        "colab": {
          "base_uri": "https://localhost:8080/"
        },
        "id": "PmXw5048yd8x",
        "outputId": "35b5d411-2e42-401b-dfc3-f60c046f7384"
      },
      "source": [
        "len('rushi')"
      ],
      "execution_count": null,
      "outputs": [
        {
          "output_type": "execute_result",
          "data": {
            "text/plain": [
              "5"
            ]
          },
          "metadata": {
            "tags": []
          },
          "execution_count": 31
        }
      ]
    },
    {
      "cell_type": "code",
      "metadata": {
        "colab": {
          "base_uri": "https://localhost:8080/"
        },
        "id": "Z4-5OGbZzEu2",
        "outputId": "c55696fd-835f-4485-83a7-cfb83886288e"
      },
      "source": [
        "type([\"a\",b,c,2])"
      ],
      "execution_count": null,
      "outputs": [
        {
          "output_type": "execute_result",
          "data": {
            "text/plain": [
              "list"
            ]
          },
          "metadata": {
            "tags": []
          },
          "execution_count": 32
        }
      ]
    },
    {
      "cell_type": "markdown",
      "metadata": {
        "id": "qOlOWJbW0tjI"
      },
      "source": [
        "**DATA STRUCTURE AND boolean**\n",
        "\n",
        "\n",
        "*   Boolean\n",
        "*   Logical operators\n",
        "*   dictionary\n",
        "*   Tuples \n",
        "*    sets\n",
        "\n"
      ]
    },
    {
      "cell_type": "markdown",
      "metadata": {
        "id": "bi26O0Qi2Hs6"
      },
      "source": [
        "Boolean values are the two constant objects False and True.\n",
        "\n",
        "They are used to represent truth values (other values can also be considered false or true).\n",
        "\n",
        "In numeric contexts (for example, when used as the argument to an arithmetic operator), they behave like the integers 0 and 1, respectively.\n",
        "\n",
        "The built-in function bool() can be used to cast any value to a Boolean, if the value can be interpreted as a truth value\n",
        "\n",
        "They are written as False and True, respectively."
      ]
    },
    {
      "cell_type": "code",
      "metadata": {
        "colab": {
          "base_uri": "https://localhost:8080/"
        },
        "id": "BowNsE_ozOyH",
        "outputId": "e2d6eecb-820c-4b89-934d-47befbea79e1"
      },
      "source": [
        "type(True)\n",
        "type(False)"
      ],
      "execution_count": null,
      "outputs": [
        {
          "output_type": "execute_result",
          "data": {
            "text/plain": [
              "bool"
            ]
          },
          "metadata": {
            "tags": []
          },
          "execution_count": 34
        }
      ]
    },
    {
      "cell_type": "code",
      "metadata": {
        "id": "OIJsFegk2aDo"
      },
      "source": [
        "my_str = '123'"
      ],
      "execution_count": null,
      "outputs": []
    },
    {
      "cell_type": "code",
      "metadata": {
        "colab": {
          "base_uri": "https://localhost:8080/"
        },
        "id": "oH4eM9RT2soz",
        "outputId": "82f842c7-210f-4f3d-95bf-431ef17068f8"
      },
      "source": [
        "type(my_str)"
      ],
      "execution_count": null,
      "outputs": [
        {
          "output_type": "execute_result",
          "data": {
            "text/plain": [
              "str"
            ]
          },
          "metadata": {
            "tags": []
          },
          "execution_count": 51
        }
      ]
    },
    {
      "cell_type": "code",
      "metadata": {
        "colab": {
          "base_uri": "https://localhost:8080/"
        },
        "id": "q4gVqhzK3-BC",
        "outputId": "fe5ab6bb-6459-4211-b4db-8b3b38dc3799"
      },
      "source": [
        "print(my_str.isalnum())"
      ],
      "execution_count": null,
      "outputs": [
        {
          "output_type": "stream",
          "text": [
            "True\n"
          ],
          "name": "stdout"
        }
      ]
    },
    {
      "cell_type": "code",
      "metadata": {
        "colab": {
          "base_uri": "https://localhost:8080/"
        },
        "id": "7WYMQ1NW2yap",
        "outputId": "2e06b25a-2b92-48c8-bf8a-c494e2a8d788"
      },
      "source": [
        "print(my_str.isalnum()) #check if all char are numbers\n",
        "print(my_str.isalpha()) #check if all char in the string are alphabetic\n",
        "print(my_str.isdigit()) #test if string contains digits\n",
        "print(my_str.istitle()) #test if string contains title words\n",
        "print(my_str.isupper()) #test if string contains upper case\n",
        "print(my_str.islower()) #test if string contains lower case\n",
        "print(my_str.isspace()) #test if string contains spaces\n",
        "print(my_str.endswith('3')) #test if string endswith a d\n",
        "print(my_str.startswith('K')) #test if string startswith H"
      ],
      "execution_count": null,
      "outputs": [
        {
          "output_type": "stream",
          "text": [
            "True\n",
            "False\n",
            "True\n",
            "False\n",
            "False\n",
            "False\n",
            "False\n",
            "True\n",
            "False\n"
          ],
          "name": "stdout"
        }
      ]
    },
    {
      "cell_type": "markdown",
      "metadata": {
        "id": "V8RTDSO16mq_"
      },
      "source": [
        "LIST"
      ]
    },
    {
      "cell_type": "code",
      "metadata": {
        "colab": {
          "base_uri": "https://localhost:8080/"
        },
        "id": "W4pExv4H8mE7",
        "outputId": "d3a909c7-95d1-44e4-ac42-4bc3d8f05f30"
      },
      "source": [
        "new = []\n",
        "type(new)"
      ],
      "execution_count": null,
      "outputs": [
        {
          "output_type": "execute_result",
          "data": {
            "text/plain": [
              "list"
            ]
          },
          "metadata": {
            "tags": []
          },
          "execution_count": 69
        }
      ]
    },
    {
      "cell_type": "code",
      "metadata": {
        "id": "zi5jeOE68-3k"
      },
      "source": [
        "new = ['camera',1,2,True,4,'my','name']"
      ],
      "execution_count": null,
      "outputs": []
    },
    {
      "cell_type": "code",
      "metadata": {
        "colab": {
          "base_uri": "https://localhost:8080/"
        },
        "id": "UMJAD40p9Om6",
        "outputId": "d9cfd4f0-7565-4e21-df5c-91160f93c3f8"
      },
      "source": [
        "type(new[3])"
      ],
      "execution_count": null,
      "outputs": [
        {
          "output_type": "execute_result",
          "data": {
            "text/plain": [
              "bool"
            ]
          },
          "metadata": {
            "tags": []
          },
          "execution_count": 76
        }
      ]
    },
    {
      "cell_type": "code",
      "metadata": {
        "colab": {
          "base_uri": "https://localhost:8080/"
        },
        "id": "UbO4HUPM9dYt",
        "outputId": "f276ea9f-d15b-4c59-d3bb-afb70836e9c9"
      },
      "source": [
        "type(new)"
      ],
      "execution_count": null,
      "outputs": [
        {
          "output_type": "execute_result",
          "data": {
            "text/plain": [
              "list"
            ]
          },
          "metadata": {
            "tags": []
          },
          "execution_count": 82
        }
      ]
    },
    {
      "cell_type": "code",
      "metadata": {
        "colab": {
          "base_uri": "https://localhost:8080/"
        },
        "id": "UnnY3TcV9nlb",
        "outputId": "02101373-2eba-4e7f-eff7-9aecdb477bb4"
      },
      "source": [
        "len(new)"
      ],
      "execution_count": null,
      "outputs": [
        {
          "output_type": "execute_result",
          "data": {
            "text/plain": [
              "7"
            ]
          },
          "metadata": {
            "tags": []
          },
          "execution_count": 78
        }
      ]
    },
    {
      "cell_type": "code",
      "metadata": {
        "id": "Amht4-7E9tcB"
      },
      "source": [
        "new.append(3)"
      ],
      "execution_count": null,
      "outputs": []
    },
    {
      "cell_type": "code",
      "metadata": {
        "colab": {
          "base_uri": "https://localhost:8080/"
        },
        "id": "NeaDcb5X-VRx",
        "outputId": "c293efbc-fe06-497c-e1ee-7462348807a0"
      },
      "source": [
        "new"
      ],
      "execution_count": null,
      "outputs": [
        {
          "output_type": "execute_result",
          "data": {
            "text/plain": [
              "['camera', 1, 2, True, 4, 'my', 'name', 3, 3, 6, 7, 8, 9, 6, 7, 8, 9]"
            ]
          },
          "metadata": {
            "tags": []
          },
          "execution_count": 122
        }
      ]
    },
    {
      "cell_type": "code",
      "metadata": {
        "colab": {
          "base_uri": "https://localhost:8080/"
        },
        "id": "A7ZL5dFyD6Uj",
        "outputId": "8606fca3-e7f9-4cba-88de-7f322e54d3c4"
      },
      "source": [
        "new.extend([6,7,8,9])\n",
        "new"
      ],
      "execution_count": null,
      "outputs": [
        {
          "output_type": "execute_result",
          "data": {
            "text/plain": [
              "['camera',\n",
              " 1,\n",
              " 2,\n",
              " True,\n",
              " 4,\n",
              " 'my',\n",
              " 'name',\n",
              " 3,\n",
              " 3,\n",
              " 6,\n",
              " 7,\n",
              " 8,\n",
              " 9,\n",
              " 6,\n",
              " 7,\n",
              " 8,\n",
              " 9,\n",
              " 6,\n",
              " 7,\n",
              " 8,\n",
              " 9]"
            ]
          },
          "metadata": {
            "tags": []
          },
          "execution_count": 123
        }
      ]
    },
    {
      "cell_type": "code",
      "metadata": {
        "id": "5xS-VFEZFICw"
      },
      "source": [
        "lst = [1,2,3,'my','new']"
      ],
      "execution_count": null,
      "outputs": []
    },
    {
      "cell_type": "code",
      "metadata": {
        "colab": {
          "base_uri": "https://localhost:8080/"
        },
        "id": "xXuBQ02LGlMZ",
        "outputId": "a7f01d06-2ef5-401a-b11e-e8cb8a55a7cc"
      },
      "source": [
        "lst[1]"
      ],
      "execution_count": null,
      "outputs": [
        {
          "output_type": "execute_result",
          "data": {
            "text/plain": [
              "2"
            ]
          },
          "metadata": {
            "tags": []
          },
          "execution_count": 104
        }
      ]
    },
    {
      "cell_type": "code",
      "metadata": {
        "colab": {
          "base_uri": "https://localhost:8080/"
        },
        "id": "4sEs24PPFhA5",
        "outputId": "05229fd8-fdce-44f6-97b4-6f5b018f0c05"
      },
      "source": [
        "lst.append([1,2,3])\n",
        "lst"
      ],
      "execution_count": null,
      "outputs": [
        {
          "output_type": "execute_result",
          "data": {
            "text/plain": [
              "[1, 2, 3, 'my', 'new', [1, 2, 3], [1, 2, 3]]"
            ]
          },
          "metadata": {
            "tags": []
          },
          "execution_count": 100
        }
      ]
    },
    {
      "cell_type": "code",
      "metadata": {
        "colab": {
          "base_uri": "https://localhost:8080/"
        },
        "id": "LKN1HQTCGCC0",
        "outputId": "37292241-311b-4dc6-c887-345f345fdc18"
      },
      "source": [
        "lst1 = [1,2,3]\n",
        "lst2 = [4,5,6]\n",
        "lst3 = lst1 + lst2 \n",
        "print(lst3)"
      ],
      "execution_count": null,
      "outputs": [
        {
          "output_type": "stream",
          "text": [
            "[1, 2, 3, 4, 5, 6]\n"
          ],
          "name": "stdout"
        }
      ]
    },
    {
      "cell_type": "code",
      "metadata": {
        "colab": {
          "base_uri": "https://localhost:8080/"
        },
        "id": "X2KrDjClIGmI",
        "outputId": "12dd9319-ce1e-427e-8094-3a16676325ff"
      },
      "source": [
        "sum(lst1)"
      ],
      "execution_count": null,
      "outputs": [
        {
          "output_type": "execute_result",
          "data": {
            "text/plain": [
              "6"
            ]
          },
          "metadata": {
            "tags": []
          },
          "execution_count": 128
        }
      ]
    },
    {
      "cell_type": "markdown",
      "metadata": {
        "id": "7WOIH-cbJQ9s"
      },
      "source": [
        "list"
      ]
    },
    {
      "cell_type": "code",
      "metadata": {
        "colab": {
          "base_uri": "https://localhost:8080/"
        },
        "id": "0Enk26T9JDrv",
        "outputId": "9f1d69db-294d-4eca-bc46-eb1167bbfb2f"
      },
      "source": [
        "list4= [1,2,3,4,5,6,6,6]\n",
        "list4.count(6)\n",
        "max(list4)\n",
        "min(list4)\n",
        "list4*2 ##print two times"
      ],
      "execution_count": null,
      "outputs": [
        {
          "output_type": "execute_result",
          "data": {
            "text/plain": [
              "[1, 2, 3, 4, 5, 6, 6, 6, 1, 2, 3, 4, 5, 6, 6, 6]"
            ]
          },
          "metadata": {
            "tags": []
          },
          "execution_count": 134
        }
      ]
    },
    {
      "cell_type": "markdown",
      "metadata": {
        "id": "cqetmyMFMTvM"
      },
      "source": [
        "# **sets**\n",
        "\n",
        "> A Set is an unordered collection data type that is iterable, mutable, and has **no duplicate elements**. Python's set class represents the mathematical notion of a set.This is based on a data structure known as a hash table\n",
        "\n"
      ]
    },
    {
      "cell_type": "code",
      "metadata": {
        "id": "tGHYLEesMc1A"
      },
      "source": [
        "st = set()"
      ],
      "execution_count": null,
      "outputs": []
    },
    {
      "cell_type": "code",
      "metadata": {
        "colab": {
          "base_uri": "https://localhost:8080/"
        },
        "id": "MiYrrPQJNE1Z",
        "outputId": "e015ccc3-baff-498f-b4cf-631af7224c88"
      },
      "source": [
        "type(st)"
      ],
      "execution_count": null,
      "outputs": [
        {
          "output_type": "execute_result",
          "data": {
            "text/plain": [
              "set"
            ]
          },
          "metadata": {
            "tags": []
          },
          "execution_count": 137
        }
      ]
    },
    {
      "cell_type": "code",
      "metadata": {
        "colab": {
          "base_uri": "https://localhost:8080/"
        },
        "id": "khGxgKgQNQm3",
        "outputId": "8fb74ba2-602a-4595-b2a7-8dbdb2cff5ac"
      },
      "source": [
        "st = {1,1,1,2,3,4,5}\n",
        "st"
      ],
      "execution_count": null,
      "outputs": [
        {
          "output_type": "execute_result",
          "data": {
            "text/plain": [
              "{1, 2, 3, 4, 5}"
            ]
          },
          "metadata": {
            "tags": []
          },
          "execution_count": 138
        }
      ]
    },
    {
      "cell_type": "code",
      "metadata": {
        "colab": {
          "base_uri": "https://localhost:8080/"
        },
        "id": "JOdPB5orNccS",
        "outputId": "ceab6d01-57e6-47b2-9984-10c8808907bb"
      },
      "source": [
        "st.add(\"rushi\")\n",
        "st"
      ],
      "execution_count": null,
      "outputs": [
        {
          "output_type": "execute_result",
          "data": {
            "text/plain": [
              "{1, 2, 3, 4, 5, 'rushi'}"
            ]
          },
          "metadata": {
            "tags": []
          },
          "execution_count": 142
        }
      ]
    },
    {
      "cell_type": "code",
      "metadata": {
        "id": "Svi9NsRBPCGG"
      },
      "source": [
        "st1 = {1,2,3,4}\n",
        "st2 = {4,5,6}\n"
      ],
      "execution_count": null,
      "outputs": []
    },
    {
      "cell_type": "code",
      "metadata": {
        "colab": {
          "base_uri": "https://localhost:8080/"
        },
        "id": "s1DMC0NQPaNr",
        "outputId": "83a93f30-c469-4850-f5c5-65694886113b"
      },
      "source": [
        "type(st1)"
      ],
      "execution_count": null,
      "outputs": [
        {
          "output_type": "execute_result",
          "data": {
            "text/plain": [
              "set"
            ]
          },
          "metadata": {
            "tags": []
          },
          "execution_count": 152
        }
      ]
    },
    {
      "cell_type": "code",
      "metadata": {
        "colab": {
          "base_uri": "https://localhost:8080/"
        },
        "id": "Xpv7kZlvPrYT",
        "outputId": "a8f90b81-9b21-465f-f054-f498eeab10f0"
      },
      "source": [
        "st1.difference(st2)\n",
        "st2.difference(st1)"
      ],
      "execution_count": null,
      "outputs": [
        {
          "output_type": "execute_result",
          "data": {
            "text/plain": [
              "{5, 6}"
            ]
          },
          "metadata": {
            "tags": []
          },
          "execution_count": 154
        }
      ]
    },
    {
      "cell_type": "code",
      "metadata": {
        "colab": {
          "base_uri": "https://localhost:8080/"
        },
        "id": "YuMnahREQSVP",
        "outputId": "a1911465-4689-4d5d-b56d-2e196e532026"
      },
      "source": [
        "st2"
      ],
      "execution_count": null,
      "outputs": [
        {
          "output_type": "execute_result",
          "data": {
            "text/plain": [
              "{4, 5, 6}"
            ]
          },
          "metadata": {
            "tags": []
          },
          "execution_count": 155
        }
      ]
    },
    {
      "cell_type": "code",
      "metadata": {
        "colab": {
          "base_uri": "https://localhost:8080/"
        },
        "id": "lullFT31Q9x_",
        "outputId": "837f7648-8324-483e-8c51-55ed0e7cd22f"
      },
      "source": [
        "st2.intersection(st1)"
      ],
      "execution_count": null,
      "outputs": [
        {
          "output_type": "execute_result",
          "data": {
            "text/plain": [
              "{4}"
            ]
          },
          "metadata": {
            "tags": []
          },
          "execution_count": 160
        }
      ]
    },
    {
      "cell_type": "code",
      "metadata": {
        "colab": {
          "base_uri": "https://localhost:8080/"
        },
        "id": "gFq-0zeZRU2O",
        "outputId": "4d22aac5-d3c0-415f-8e7d-92dec5156d7c"
      },
      "source": [
        "st1.pop()\n",
        "st1"
      ],
      "execution_count": null,
      "outputs": [
        {
          "output_type": "execute_result",
          "data": {
            "text/plain": [
              "{2, 3, 4}"
            ]
          },
          "metadata": {
            "tags": []
          },
          "execution_count": 169
        }
      ]
    },
    {
      "cell_type": "code",
      "metadata": {
        "colab": {
          "base_uri": "https://localhost:8080/"
        },
        "id": "Ncs4Ib7iQaNe",
        "outputId": "0f474f81-ba06-4bd7-a1af-65a9bf14d0ce"
      },
      "source": [
        "st2.difference_update(st1)\n",
        "st2"
      ],
      "execution_count": null,
      "outputs": [
        {
          "output_type": "execute_result",
          "data": {
            "text/plain": [
              "{5, 6}"
            ]
          },
          "metadata": {
            "tags": []
          },
          "execution_count": 157
        }
      ]
    },
    {
      "cell_type": "code",
      "metadata": {
        "colab": {
          "base_uri": "https://localhost:8080/"
        },
        "id": "kFNDZKwpQrqy",
        "outputId": "411b9e54-1254-479f-cf16-28ecf816404d"
      },
      "source": [
        "st2.intersection(st1)"
      ],
      "execution_count": null,
      "outputs": [
        {
          "output_type": "execute_result",
          "data": {
            "text/plain": [
              "set()"
            ]
          },
          "metadata": {
            "tags": []
          },
          "execution_count": 158
        }
      ]
    },
    {
      "cell_type": "markdown",
      "metadata": {
        "id": "RBX1o4VDSDw3"
      },
      "source": [
        "#  **Dictionary**\n",
        "\n",
        "\n",
        "---\n",
        "\n",
        "\n",
        "> A dictionary is a collection which is unordered, changeable and indexed. In Python dictionaries are written with curly brackets, and they have keys and values.\n",
        "\n",
        "\n",
        "---\n",
        "\n",
        "\n",
        "\n",
        "\n"
      ]
    },
    {
      "cell_type": "code",
      "metadata": {
        "id": "-r8KwvLyRIyk"
      },
      "source": [
        "dict = {'pc1' : \"lenovo\" , 'pc2' : \"hp\" , 'pc3' : \"msi\" , 'pc4' : \"asus\" }"
      ],
      "execution_count": null,
      "outputs": []
    },
    {
      "cell_type": "code",
      "metadata": {
        "colab": {
          "base_uri": "https://localhost:8080/"
        },
        "id": "JzWursycTFfv",
        "outputId": "08cc60ea-49bc-410b-babe-05e2dcb7b048"
      },
      "source": [
        "type(dict)"
      ],
      "execution_count": null,
      "outputs": [
        {
          "output_type": "execute_result",
          "data": {
            "text/plain": [
              "dict"
            ]
          },
          "metadata": {
            "tags": []
          },
          "execution_count": 171
        }
      ]
    },
    {
      "cell_type": "code",
      "metadata": {
        "colab": {
          "base_uri": "https://localhost:8080/",
          "height": 35
        },
        "id": "WSAfDs-8TK6j",
        "outputId": "f2f8375a-36bd-41e9-b4ad-3a9dd7b54311"
      },
      "source": [
        "dict['pc3']"
      ],
      "execution_count": null,
      "outputs": [
        {
          "output_type": "execute_result",
          "data": {
            "application/vnd.google.colaboratory.intrinsic+json": {
              "type": "string"
            },
            "text/plain": [
              "'msi'"
            ]
          },
          "metadata": {
            "tags": []
          },
          "execution_count": 174
        }
      ]
    },
    {
      "cell_type": "code",
      "metadata": {
        "colab": {
          "base_uri": "https://localhost:8080/"
        },
        "id": "Yae-MOeRTp1i",
        "outputId": "864808d9-dcee-4d88-d449-730787f5c458"
      },
      "source": [
        "for x in dict :\n",
        "  print (x) "
      ],
      "execution_count": null,
      "outputs": [
        {
          "output_type": "stream",
          "text": [
            "pc1\n",
            "pc2\n",
            "pc3\n",
            "pc4\n"
          ],
          "name": "stdout"
        }
      ]
    },
    {
      "cell_type": "code",
      "metadata": {
        "id": "g0EAcNLdWRpb"
      },
      "source": [
        "dict['pc5'] = \"legion\""
      ],
      "execution_count": null,
      "outputs": []
    },
    {
      "cell_type": "code",
      "metadata": {
        "colab": {
          "base_uri": "https://localhost:8080/"
        },
        "id": "58cUKUZ5WdGA",
        "outputId": "9bc2777a-bb75-488d-9a01-9ab95016de1b"
      },
      "source": [
        "dict"
      ],
      "execution_count": null,
      "outputs": [
        {
          "output_type": "execute_result",
          "data": {
            "text/plain": [
              "{'pc1': 'pavilion', 'pc2': 'hp', 'pc3': 'msi', 'pc4': 'asus', 'pc5': 'legion'}"
            ]
          },
          "metadata": {
            "tags": []
          },
          "execution_count": 192
        }
      ]
    },
    {
      "cell_type": "code",
      "metadata": {
        "id": "Fvn_1L4fWmdu"
      },
      "source": [
        "dict['pc1'] = \"pavilion\""
      ],
      "execution_count": null,
      "outputs": []
    },
    {
      "cell_type": "markdown",
      "metadata": {
        "id": "NROCRSXaXlRp"
      },
      "source": [
        "# **tuple**"
      ]
    },
    {
      "cell_type": "code",
      "metadata": {
        "id": "A3Ofd8DqX0_2"
      },
      "source": [
        "name = ('a','b','c','f','g')"
      ],
      "execution_count": null,
      "outputs": []
    },
    {
      "cell_type": "code",
      "metadata": {
        "colab": {
          "base_uri": "https://localhost:8080/"
        },
        "id": "YpoQwuxRYZ2w",
        "outputId": "ba61a6a6-7245-44bc-a541-d117b386d0dc"
      },
      "source": [
        "type(name)"
      ],
      "execution_count": null,
      "outputs": [
        {
          "output_type": "execute_result",
          "data": {
            "text/plain": [
              "tuple"
            ]
          },
          "metadata": {
            "tags": []
          },
          "execution_count": 195
        }
      ]
    },
    {
      "cell_type": "code",
      "metadata": {
        "colab": {
          "base_uri": "https://localhost:8080/",
          "height": 35
        },
        "id": "oS7UNPoCYdD1",
        "outputId": "07e95f81-877c-4df1-f7bd-ed804a5f7015"
      },
      "source": [
        "name[0]"
      ],
      "execution_count": null,
      "outputs": [
        {
          "output_type": "execute_result",
          "data": {
            "application/vnd.google.colaboratory.intrinsic+json": {
              "type": "string"
            },
            "text/plain": [
              "'a'"
            ]
          },
          "metadata": {
            "tags": []
          },
          "execution_count": 200
        }
      ]
    },
    {
      "cell_type": "code",
      "metadata": {
        "colab": {
          "base_uri": "https://localhost:8080/"
        },
        "id": "sRTczaRyY4du",
        "outputId": "0eeb4640-0ab4-47ca-9618-080c5db10d2e"
      },
      "source": [
        "name.count('a')"
      ],
      "execution_count": null,
      "outputs": [
        {
          "output_type": "execute_result",
          "data": {
            "text/plain": [
              "1"
            ]
          },
          "metadata": {
            "tags": []
          },
          "execution_count": 203
        }
      ]
    },
    {
      "cell_type": "code",
      "metadata": {
        "colab": {
          "base_uri": "https://localhost:8080/"
        },
        "id": "6HJIf0PgZM2L",
        "outputId": "a4ea5a82-390d-46eb-bd60-5990c1dc27de"
      },
      "source": [
        "name.index(\"b\")"
      ],
      "execution_count": null,
      "outputs": [
        {
          "output_type": "execute_result",
          "data": {
            "text/plain": [
              "1"
            ]
          },
          "metadata": {
            "tags": []
          },
          "execution_count": 204
        }
      ]
    }
  ]
}